{
 "cells": [
  {
   "cell_type": "markdown",
   "metadata": {},
   "source": [
    "# Load in and Clean Data"
   ]
  },
  {
   "cell_type": "code",
   "execution_count": 1,
   "metadata": {},
   "outputs": [
    {
     "name": "stdout",
     "output_type": "stream",
     "text": [
      "   CreditApprove  Gender  CarOwner  PropertyOwner  #Children  WorkPhone  \\\n",
      "0              1       1         1              1          0          0   \n",
      "1              1       0         1              0          0          1   \n",
      "2              1       0         1              0          0          1   \n",
      "3              1       0         1              0          0          1   \n",
      "4              1       0         1              0          0          1   \n",
      "\n",
      "   Email_ID  \n",
      "0         0  \n",
      "1         0  \n",
      "2         0  \n",
      "3         0  \n",
      "4         0  \n",
      "Number of rows = 339\n"
     ]
    }
   ],
   "source": [
    "###\n",
    "# Part 1\n",
    "###\n",
    "import pandas as pd\n",
    "\n",
    "# Read the CSV file into a DataFrame\n",
    "df = pd.read_csv('data_sets/CreditCard.csv')\n",
    "\n",
    "# Drop rows with any `null` values or empty strings\n",
    "df = df.replace('', pd.NA).dropna()\n",
    "df = df.reset_index(drop=True)\n",
    "\n",
    "# Encode Values In Data Sets\n",
    "df['Gender'] = df['Gender'].map({'M': 1, 'F': 0})\n",
    "df['CarOwner'] = df['CarOwner'].map({'Y': 1, 'N': 0})\n",
    "df['PropertyOwner'] = df['PropertyOwner'].map({'Y': 1, 'N': 0})\n",
    "\n",
    "# Drop the Ind_ID\n",
    "df = df.drop(columns=['Ind_ID'])\n",
    "\n",
    "# Display the first few rows of the DataFrame\n",
    "print(df.head())\n",
    "print('Number of rows =',len(df))\n",
    "\n",
    "###\n",
    "# Part 2\n",
    "###\n",
    "\n",
    "# Get X and y values\n",
    "y = df['CreditApprove']\n",
    "X = df.drop(columns=['CreditApprove']) \n"
   ]
  },
  {
   "cell_type": "markdown",
   "metadata": {},
   "source": [
    "# (1) A figure of er(w) versus search round for local search, placed in Figure 2\n",
    "# (2) Optimal w and er(w) returned by local search, placed in equations (3) and (4)"
   ]
  },
  {
   "cell_type": "code",
   "execution_count": 4,
   "metadata": {},
   "outputs": [
    {
     "name": "stdout",
     "output_type": "stream",
     "text": [
      "Step 0 = [-1, -1, -1, -1, -1, -1]\n",
      "Step 1 = [-1, -1, 1, -1, -1, -1]\n",
      "Step 2 = [1, -1, 1, -1, -1, -1]\n",
      "Step 3 = [1, -1, 1, -1, 1, -1]\n",
      "Step 4 = [1, -1, 1, -1, 1, 1]\n",
      "Optimized w (hill climbing local search) = [1, -1, 1, -1, 1, 1]\n",
      "Optimized er(w) = 1.2713864306784661\n"
     ]
    },
    {
     "data": {
      "image/png": "[encoded data removed]",
      "text/plain": [
       "<Figure size 800x600 with 1 Axes>"
      ]
     },
     "metadata": {},
     "output_type": "display_data"
    }
   ],
   "source": [
    "w = [-1, -1, -1, -1, -1, -1]\n",
    "\n",
    "def find_er_w(w):\n",
    "    fx = [0] * len(X)\n",
    "    er_w_sum = 0\n",
    "    for i in range(len(X)):\n",
    "        for j in range(len(X.columns)):\n",
    "            fx[i] += w[j] * X.iloc[i,j]\n",
    "        er_w_sum += (fx[i] - y[i])**2\n",
    "    er_w = er_w_sum  / len(X)\n",
    "    return er_w\n",
    "\n",
    "import copy\n",
    "import matplotlib.pyplot as plt\n",
    "\n",
    "def hill_climbing_local_search(w, threshold=1000):\n",
    "    er_w_trasformations = []\n",
    "    rounds = []\n",
    "    min_found = False\n",
    "    for i in range(threshold):\n",
    "        print(\"Step\",i,\"=\",w)\n",
    "        current_er_w = find_er_w(w)\n",
    "\n",
    "        er_w_trasformations.append(current_er_w)\n",
    "        rounds.append(i)\n",
    "\n",
    "        # Find adjacent solutions (so for each weight in w, flip the value)\n",
    "        # Example: Have [1,1,1,1,1,1]\n",
    "        # Result: Test [-1,1,1,1,1,1], [1,-1,1,1,1,1], etc.\n",
    "        er_w_prime_best = 10 # 10 is greater than 1 * 6\n",
    "        best_w_prime = []\n",
    "        for j in range(len(X.columns)):\n",
    "            w_prime = copy.deepcopy(w)\n",
    "            w_prime[j] *= -1\n",
    "            er_w_prime = find_er_w(w_prime)\n",
    "            if er_w_prime < er_w_prime_best:\n",
    "                er_w_prime_best = er_w_prime\n",
    "                best_w_prime = w_prime\n",
    "\n",
    "        if er_w_prime_best < current_er_w:\n",
    "            w = best_w_prime\n",
    "        else:\n",
    "            print('Optimized w (hill climbing local search) =', w)\n",
    "            print('Optimized er(w) =', current_er_w)\n",
    "            min_found = True\n",
    "            break\n",
    "    if not min_found:\n",
    "        print('Best so far w (hill climbing local search) =', w)\n",
    "        print('Best so far er(w) =', current_er_w)\n",
    "\n",
    "    plt.figure(figsize=(8,6))\n",
    "    plt.plot(rounds, er_w_trasformations, marker='o', linestyle='-', color='b', label='Error')\n",
    "    plt.xlabel('Round of Search')\n",
    "    plt.ylabel('Error (er_w)')\n",
    "    plt.title('Hill Climbing Local Search, Error vs. Round')\n",
    "    plt.show()\n",
    "    return w\n",
    "\n",
    "w = hill_climbing_local_search([-1,-1,-1,-1,-1,-1])"
   ]
  },
  {
   "cell_type": "markdown",
   "metadata": {},
   "source": [
    "# (3) A figure of er(w) versus generation for genetic algorithm, place in Figure 3\n",
    "# (4) Optimal w and er(w) returned by genetic algorithm, placed in equations (8) and (9)"
   ]
  },
  {
   "cell_type": "code",
   "execution_count": null,
   "metadata": {},
   "outputs": [],
   "source": []
  }
 ],
 "metadata": {
  "kernelspec": {
   "display_name": "Python 3",
   "language": "python",
   "name": "python3"
  },
  "language_info": {
   "codemirror_mode": {
    "name": "ipython",
    "version": 3
   },
   "file_extension": ".py",
   "mimetype": "text/x-python",
   "name": "python",
   "nbconvert_exporter": "python",
   "pygments_lexer": "ipython3",
   "version": "3.10.11"
  }
 },
 "nbformat": 4,
 "nbformat_minor": 2
}
